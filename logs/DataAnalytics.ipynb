{
 "cells": [
  {
   "cell_type": "code",
   "execution_count": 2,
   "metadata": {},
   "outputs": [],
   "source": [
    "import pandas as pd\n",
    "import matplotlib\n",
    "import matplotlib.pyplot as plt\n",
    "import numpy as np"
   ]
  },
  {
   "cell_type": "code",
   "execution_count": 3,
   "metadata": {},
   "outputs": [],
   "source": [
    "def read_jpake_logs(filename, n):\n",
    "    df = pd.DataFrame(columns=['participants', '1', '1v', '2', '2v', '3', '4','KC'])\n",
    "    f = open(filename, \"r\")\n",
    "    a = [n]\n",
    "    for x in f:\n",
    "        \n",
    "        if \"LATENCY\" in x:\n",
    "            temp = x\n",
    "            for i in range(len(temp)-1, 0, -1):\n",
    "                if temp[i] == \":\":\n",
    "                    temp2 = temp[i+1:]\n",
    "                    a.append(int(temp2))\n",
    "                    break\n",
    "            if len(a) == 8:    \n",
    "                df2 = pd.DataFrame([a], columns=['participants', '1', '1v', '2', '2v', '3', '4','KC'])\n",
    "                df = df.append(df2)\n",
    "                a = [n]\n",
    "    f.close()\n",
    "    return df"
   ]
  },
  {
   "cell_type": "code",
   "execution_count": 4,
   "metadata": {},
   "outputs": [],
   "source": [
    "def read_jpake_ec_logs(filename, n):\n",
    "    df = pd.DataFrame(columns=['participants', '1', '1v', '2', '2v', '3', '4','KC'])\n",
    "    f = open(filename, \"r\")\n",
    "    a = [n]\n",
    "    for x in f:\n",
    "        if \"EC_LATENCY\" in x:\n",
    "            temp = x\n",
    "            for i in range(len(temp)-1, 0, -1):\n",
    "                if temp[i] == \":\":\n",
    "                    temp2 = temp[i+1:]\n",
    "                    a.append(int(temp2))\n",
    "                    break\n",
    "            if len(a) == 8:    \n",
    "\n",
    "                df2 = pd.DataFrame([a], columns=['participants', '1', '1v', '2', '2v', '3', '4','KC'])\n",
    "                df = df.append(df2)\n",
    "                a = [n]\n",
    "    f.close()\n",
    "    return df"
   ]
  },
  {
   "cell_type": "code",
   "execution_count": 5,
   "metadata": {},
   "outputs": [],
   "source": [
    "def read_speke_logs(filename, n):\n",
    "    df = pd.DataFrame(columns=['participants', '1', '1v', '2', '2v', 'KC'])\n",
    "    f = open(filename, \"r\")\n",
    "    a = [n]\n",
    "    for x in f:\n",
    "        if \"SPEKE_LATENCY\" in x:\n",
    "            temp = x\n",
    "            for i in range(len(temp)-1, 0, -1):\n",
    "                if temp[i] == \":\":\n",
    "                    temp2 = temp[i+1:]\n",
    "                    a.append(int(temp2))\n",
    "                    break\n",
    "            if len(a) == 6:    \n",
    "\n",
    "                df2 = pd.DataFrame([a], columns=['participants', '1', '1v', '2', '2v', 'KC'])\n",
    "                df = df.append(df2)\n",
    "                a = [n]\n",
    "    f.close()\n",
    "    return df"
   ]
  },
  {
   "cell_type": "code",
   "execution_count": 11,
   "metadata": {},
   "outputs": [],
   "source": [
    "def read_participants(filepath, participants, log_type):\n",
    "    if log_type == \"jpake\":\n",
    "        a = read_jpake_logs(filepath+\"/logs_2xl_p\"+str(participants)+\".txt\", participants)\n",
    "        b = read_jpake_logs(filepath+\"/logs_3a_p\"+str(participants)+\".txt\", participants)\n",
    "        c = read_jpake_logs(filepath+\"/logs_3_emu_L1_p\"+str(participants)+\".txt\", participants)\n",
    "        arr = [a, b, c]\n",
    "        if participants > 3:\n",
    "            additional_clients = participants - 3\n",
    "            for i in range(1, additional_clients+1):\n",
    "                d = read_jpake_logs(filepath+\"/logs_3a_emu_C\"+str(i)+\"_p\"+str(participants)+\".txt\", participants)\n",
    "                arr.append(d)\n",
    "        return arr\n",
    "    elif log_type == \"speke\":\n",
    "        a = read_speke_logs(filepath+\"/logs_2xl_p\"+str(participants)+\".txt\", participants)\n",
    "        b = read_speke_logs(filepath+\"/logs_3a_p\"+str(participants)+\".txt\", participants)\n",
    "        c = read_speke_logs(filepath+\"/logs_3_emu_L1_p\"+str(participants)+\".txt\", participants)\n",
    "        arr = [a, b, c]\n",
    "        if participants > 3:\n",
    "            additional_clients = participants - 3\n",
    "            for i in range(1, additional_clients+1):\n",
    "                d = read_speke_logs(filepath+\"/logs_3a_emu_C\"+str(i)+\"_p\"+str(participants)+\".txt\", participants)\n",
    "                arr.append(d)\n",
    "        return arr\n",
    "    elif log_type == \"jpake_ec\":\n",
    "        a = read_jpake_ec_logs(filepath+\"/logs_2xl_p\"+str(participants)+\".txt\", participants)\n",
    "        b = read_jpake_ec_logs(filepath+\"/logs_3a_p\"+str(participants)+\".txt\", participants)\n",
    "        c = read_jpake_ec_logs(filepath+\"/logs_3_emu_L1_p\"+str(participants)+\".txt\", participants)\n",
    "        arr = [a, b, c]\n",
    "        if participants > 3:\n",
    "            additional_clients = participants - 3\n",
    "            for i in range(1, additional_clients+1):\n",
    "                d = read_jpake_ec_logs(filepath+\"/logs_3a_emu_C\"+str(i)+\"_p\"+str(participants)+\".txt\", participants)\n",
    "                arr.append(d)\n",
    "        return arr\n",
    "    else:\n",
    "        return []"
   ]
  },
  {
   "cell_type": "code",
   "execution_count": 12,
   "metadata": {},
   "outputs": [],
   "source": [
    "jpp_p3 = read_participants(\"jpakeplusLogs\", 3, \"jpake\")\n",
    "spp_p3 = read_participants(\"spekeplusLogs\", 3, \"speke\")\n",
    "jpp_ec_p3 = read_participants(\"jpakeplusecLogs\", 3, \"jpake_ec\")\n",
    "\n",
    "jpp_p4 = read_participants(\"jpakeplusLogs\", 4, \"jpake\")\n",
    "spp_p4 = read_participants(\"spekeplusLogs\", 4, \"speke\")\n",
    "jpp_ec_p4 = read_participants(\"jpakeplusecLogs\", 4, \"jpake_ec\")\n",
    "\n",
    "jpp_p5 = read_participants(\"jpakeplusLogs\", 5, \"jpake\")\n",
    "spp_p5 = read_participants(\"spekeplusLogs\", 5, \"speke\")\n",
    "jpp_ec_p5 = read_participants(\"jpakeplusecLogs\", 5, \"jpake_ec\")\n",
    "\n",
    "jpp_p6 = read_participants(\"jpakeplusLogs\", 6, \"jpake\")\n",
    "spp_p6 = read_participants(\"spekeplusLogs\", 6, \"speke\")\n",
    "jpp_ec_p6 = read_participants(\"jpakeplusecLogs\", 6, \"jpake_ec\")\n"
   ]
  },
  {
   "cell_type": "code",
   "execution_count": 15,
   "metadata": {},
   "outputs": [
    {
     "data": {
      "image/png": "[encoded data removed]",
      "text/plain": [
       "<Figure size 1728x864 with 4 Axes>"
      ]
     },
     "metadata": {
      "needs_background": "light"
     },
     "output_type": "display_data"
    }
   ],
   "source": [
    "jpake_plus_3 = 0\n",
    "for i in jpp_p3:\n",
    "    jpake_plus_3 = jpake_plus_3 + i.mean()\n",
    "jpake_plus_3 = jpake_plus_3/3\n",
    "jpake_plus_3 = list(jpake_plus_3)\n",
    "\n",
    "jpake_plus_ec_3 = 0\n",
    "for i in jpp_ec_p3:\n",
    "    jpake_plus_ec_3 = jpake_plus_ec_3 + i.mean()\n",
    "jpake_plus_ec_3 = jpake_plus_ec_3/3\n",
    "jpake_plus_ec_3 = list(jpake_plus_ec_3)\n",
    "\n",
    "jpake_plus_4 = 0\n",
    "for i in jpp_p4:\n",
    "    jpake_plus_4 = jpake_plus_4 + i.mean()\n",
    "jpake_plus_4 = jpake_plus_4/4\n",
    "jpake_plus_4 = list(jpake_plus_4)\n",
    "\n",
    "jpake_plus_ec_4 = 0\n",
    "for i in jpp_ec_p4:\n",
    "    jpake_plus_ec_4 = jpake_plus_ec_4 + i.mean()\n",
    "jpake_plus_ec_4 = jpake_plus_ec_4/4\n",
    "jpake_plus_ec_4 = list(jpake_plus_ec_4)\n",
    "\n",
    "\n",
    "jpake_plus_5 = 0\n",
    "for i in jpp_p5:\n",
    "    if not i.empty:\n",
    "        jpake_plus_5 = jpake_plus_5 + i.mean()\n",
    "\n",
    "jpake_plus_5 = jpake_plus_5/5\n",
    "jpake_plus_5 = list(jpake_plus_5)\n",
    "\n",
    "jpake_plus_ec_5 = 0\n",
    "for i in jpp_ec_p5:\n",
    "    jpake_plus_ec_5 = jpake_plus_ec_5 + i.mean()\n",
    "jpake_plus_ec_5 = jpake_plus_ec_5/5\n",
    "jpake_plus_ec_5 = list(jpake_plus_ec_5)\n",
    "\n",
    "\n",
    "\n",
    "jpake_plus_6 = 0\n",
    "for i in jpp_p6:\n",
    "    jpake_plus_6 = jpake_plus_6 + i.mean()\n",
    "jpake_plus_6 = jpake_plus_6/6\n",
    "jpake_plus_6 = list(jpake_plus_6)\n",
    "\n",
    "jpake_plus_ec_6 = 0\n",
    "for i in jpp_ec_p6:\n",
    "    if not i.empty:\n",
    "        jpake_plus_ec_6 = jpake_plus_ec_6 + i.mean()\n",
    "jpake_plus_ec_6 = jpake_plus_ec_6/6\n",
    "jpake_plus_ec_6 = list(jpake_plus_ec_6)\n",
    "\n",
    "\n",
    "\n",
    "\n",
    "barWidth = 0.25\n",
    "labels = jpp_ec_p3[0].keys()\n",
    "plt.figure(figsize=[24,12])\n",
    "\n",
    "x_pos = np.arange(1, 8).tolist()\n",
    "x_pos_2 = [i+barWidth+1 for i,_ in enumerate(x_pos)]\n",
    "\n",
    "\n",
    "plt.subplot(3,3,1)\n",
    "plt.xticks([1, 2, 3, 4, 5, 6, 7], [\"1\", \"1v\", \"2\", \"2v\", \"3\", \"3v\", \"KC\"])\n",
    "plt.bar(x_pos, jpake_plus_3[1:], color='green', width=barWidth, edgecolor='white', label='jpake+')\n",
    "plt.bar(x_pos_2, jpake_plus_ec_3[1:], color='blue', width=barWidth, edgecolor='white', label='jpake ec')\n",
    "plt.xlabel(\"Round\")\n",
    "plt.ylabel(\"Latency (ms)\")\n",
    "plt.title(\"Latency of each round JPAKE+ vs JPAKE+ Ec 3 participants\")\n",
    "plt.legend()\n",
    "\n",
    "plt.subplot(3,3,2)\n",
    "plt.xticks([1, 2, 3, 4, 5, 6, 7], [\"1\", \"1v\", \"2\", \"2v\", \"3\", \"3v\", \"KC\"])\n",
    "plt.bar(x_pos, jpake_plus_4[1:], color='green', width=barWidth, edgecolor='white', label='jpake+')\n",
    "plt.bar(x_pos_2,jpake_plus_ec_4[1:], color='blue', width=barWidth, edgecolor='white', label='jpake ec')\n",
    "plt.xlabel(\"Round\")\n",
    "plt.ylabel(\"Latency (ms)\")\n",
    "plt.title(\"Latency of each round JPAKE+ vs JPAKE+ Ec 4 participants\")\n",
    "plt.legend()\n",
    "\n",
    "plt.subplot(3,3,3)\n",
    "plt.xticks([1, 2, 3, 4, 5, 6, 7], [\"1\", \"1v\", \"2\", \"2v\", \"3\", \"3v\", \"KC\"])\n",
    "plt.bar(x_pos, jpake_plus_5[1:], color='green', width=barWidth, edgecolor='white', label='jpake+')\n",
    "plt.bar(x_pos_2,jpake_plus_ec_5[1:], color='blue', width=barWidth, edgecolor='white', label='jpake ec')\n",
    "plt.xlabel(\"Round\")\n",
    "plt.ylabel(\"Latency (ms)\")\n",
    "plt.title(\"Latency of each round JPAKE+ vs JPAKE+ Ec 5 participants\")\n",
    "plt.legend()\n",
    "\n",
    "plt.subplot(3,3,4)\n",
    "plt.xticks([1, 2, 3, 4, 5, 6, 7], [\"1\", \"1v\", \"2\", \"2v\", \"3\", \"3v\", \"KC\"])\n",
    "plt.bar(x_pos, jpake_plus_6[1:], color='green', width=barWidth, edgecolor='white', label='jpake+')\n",
    "plt.bar(x_pos_2,jpake_plus_ec_6[1:], color='blue', width=barWidth, edgecolor='white', label='jpake ec')\n",
    "plt.xlabel(\"Round\")\n",
    "plt.ylabel(\"Latency (ms)\")\n",
    "plt.title(\"Latency of each round JPAKE+ vs JPAKE+ Ec 6 participants\")\n",
    "plt.legend()\n",
    "\n",
    "\n",
    "\n",
    "plt.show()\n"
   ]
  },
  {
   "cell_type": "code",
   "execution_count": 20,
   "metadata": {},
   "outputs": [
    {
     "data": {
      "image/png": "[encoded data removed]",
      "text/plain": [
       "<Figure size 432x288 with 1 Axes>"
      ]
     },
     "metadata": {
      "needs_background": "light"
     },
     "output_type": "display_data"
    }
   ],
   "source": [
    "plt.xticks(x_pos, [\"pixel 3a\", \"pixel 2xl\", \"pixel 3emu\", \"3a c1\", \"3a c2\", \"3a c3\"])\n",
    "\n",
    "a = []\n",
    "for i in jpp_p6:\n",
    "    a.append(i[\"1\"].mean())\n",
    "x_pos = [i for i in range(6)]\n",
    "\n",
    "plt.bar(x_pos, a, color='green', width=barWidth, edgecolor='white')\n",
    "\n",
    "\n",
    "plt.xlabel(\"Device\")\n",
    "plt.ylabel(\"Latency (ms)\")\n",
    "plt.title(\"Latency of round 1 across devices (JPAKE+)\")\n",
    "plt.show()"
   ]
  },
  {
   "cell_type": "code",
   "execution_count": 23,
   "metadata": {},
   "outputs": [],
   "source": [
    "labels = jpp_ec_p3[0].keys()\n",
    "\n",
    "\n",
    "x_pos = [i for i, _ in enumerate(labels)]\n",
    "x_pos2 = [i + barWidth for i, _ in enumerate(labels)]\n",
    "x_pos3 = [i + barWidth for i in x_pos2]\n",
    "\n",
    "j3, s3, je3 = 0, 0, 0\n",
    "for i in range(len(jpp_p3)):\n",
    "    j3 = j3 + jpp_p3[i].mean()\n",
    "    s3 = s3 + spp_p3[i].mean()\n",
    "    je3 = je3 + jpp_ec_p3[i].mean()\n",
    "j3 = j3 / len(jpp_p3)\n",
    "s3 = s3 / len(spp_p3)\n",
    "je3 = je3 / len(jpp_ec_p3)\n",
    "\n",
    "j4, s4, je4 = 0, 0, 0\n",
    "for i in range(len(jpp_p4)):\n",
    "    j4 = j4 + jpp_p4[i].mean()\n",
    "    s4 = s4 + spp_p4[i].mean()\n",
    "    je4 = je4 + jpp_ec_p4[i].mean()\n",
    "j4 = j4 / len(jpp_p4)\n",
    "s4 = s4 / len(spp_p4)\n",
    "je4 = je4 / len(jpp_ec_p4)\n",
    "\n",
    "j5, s5, je5 = 0, 0, 0\n",
    "for i in range(len(jpp_p5)):\n",
    "    if not jpp_p5[i].empty:\n",
    "        j5 = j5 + jpp_p5[i].mean()\n",
    "    s5 = s5 + spp_p5[i].mean()\n",
    "    je5 = je5 + jpp_ec_p5[i].mean()\n",
    "j5 = j5 / len(jpp_p5)\n",
    "s5 = s5 / len(spp_p5)\n",
    "je5 = je5 / len(jpp_ec_p5)\n",
    "\n",
    "j6, s6, je6 = 0, 0, 0\n",
    "for i in range(len(jpp_p6)):\n",
    "    j6 = j6 + jpp_p6[i].mean()\n",
    "    s6 = s6 + spp_p6[i].mean()\n",
    "    temp = jpp_ec_p6[i].mean()\n",
    "    if not temp.isnull().values.any():\n",
    "        je6 = je6 + temp\n",
    "    \n",
    "j6 = j6 / len(jpp_p6)\n",
    "s6 = s6 / len(spp_p6)\n",
    "je6 = je6 / len(jpp_ec_p6)"
   ]
  },
  {
   "cell_type": "code",
   "execution_count": null,
   "metadata": {},
   "outputs": [],
   "source": [
    "round_1 = [j3['1'], j4['1'], j5['1'], j6['1']]\n",
    "round_1v = [j3['1v'], j4['1v'], j5['1v'], j6['1v']]\n",
    "round_2 = [j3['2'], j4['2'], j5['2'], j6['2']]\n",
    "round_2v = [j3['2v'], j4['2v'], j5['2v'], j6['2v']]\n",
    "round_3 = [j3['3'], j4['3'], j5['3'], j6['3']]\n",
    "round_3v = [j3['4'], j4['4'], j5['4'], j6['4']]\n",
    "round_kc = [j3['KC'], j4['KC'], j5['KC'], j6['KC']]\n",
    "\n",
    "\n",
    "plt.figure(figsize=[24,6])\n",
    "plt.subplot(1,3,1)\n",
    "x = np.arange(0,4).tolist()\n",
    "plt.xticks(x, np.arange(3,7).tolist())\n",
    "plt.bar(x, round_1, color=(0.356, 0.745, 0.760, 1), width=barWidth, edgecolor='white', label='r1 computation latency')\n",
    "plt.bar(x, round_1v, color=(0.694, 0.917, 0.929,1), bottom=round_1, width=barWidth, edgecolor='white', label='r1v computation latency')\n",
    "plt.bar(x, round_2, color=(0.772, 0.403, 0.470, 1), bottom=np.array(round_1v)+np.array(round_1), width=barWidth, edgecolor='white', label='r2 computation latency')\n",
    "plt.bar(x, round_2v, color=(0.925, 0.654, 0.701, 1), bottom=np.array(round_1v)+np.array(round_1) + np.array(round_2), width=barWidth, edgecolor='white', label='r2v computation latency')\n",
    "plt.bar(x, round_3, color=(0.709, 0.356, 0.760, 1), bottom=np.array(round_1v)+np.array(round_1) + np.array(round_2)+np.array(round_2v), width=barWidth, edgecolor='white', label='r3 computation latency')\n",
    "plt.bar(x, round_3v, color=(0.905, 0.705, 0.933, 1), bottom=np.array(round_1v)+np.array(round_1) + np.array(round_2)+np.array(round_2v)+np.array(round_3), width=barWidth, edgecolor='white', label='r3v computation latency')\n",
    "plt.bar(x, round_kc, color=(0.705, 0.933, 0.764, 1), bottom=np.array(round_1v)+np.array(round_1) + np.array(round_2)+np.array(round_2v)+np.array(round_3)+np.array(round_3v), width=barWidth, edgecolor='white', label='kc latency')\n",
    "plt.ylim(0, 3000)\n",
    "plt.xlabel(\"Participants\")\n",
    "plt.ylabel(\"Latency (ms)\")\n",
    "plt.title(\"JPAKE+ Latency with n participants\")\n",
    "\n",
    "\n",
    "\n",
    "plt.legend()\n",
    "\n",
    "\n",
    "\n",
    "plt.subplot(1,3,2)\n",
    "round_1 = [s3['1'], s4['1'], s5['1'], s6['1']]\n",
    "round_1v = [s3['1v'], s4['1v'], j5['1v'], s6['1v']]\n",
    "round_2 = [s3['2'], s4['2'], s5['2'], j6['2']]\n",
    "round_2v = [s3['2v'], s4['2v'], s5['2v'], s6['2v']]\n",
    "round_kc = [s3['KC'], s4['KC'], s5['KC'], s6['KC']]\n",
    "x = np.arange(0,4).tolist()\n",
    "plt.xticks(x, np.arange(3,7).tolist())\n",
    "plt.bar(x, round_1, color=(0.356, 0.745, 0.760, 1), width=barWidth, edgecolor='white', label='r1 computation latency')\n",
    "plt.bar(x, round_1v, color=(0.694, 0.917, 0.929,1), bottom=round_1, width=barWidth, edgecolor='white', label='r1v computation latency')\n",
    "plt.bar(x, round_2, color=(0.772, 0.403, 0.470, 1), bottom=np.array(round_1v)+np.array(round_1), width=barWidth, edgecolor='white', label='r2 computation latency')\n",
    "plt.bar(x, round_2v, color=(0.925, 0.654, 0.701, 1), bottom=np.array(round_1v)+np.array(round_1) + np.array(round_2), width=barWidth, edgecolor='white', label='r2v computation latency')\n",
    "plt.bar(x, round_kc, color=(0.705, 0.933, 0.764, 1), bottom=np.array(round_1v)+np.array(round_1) + np.array(round_2)+np.array(round_2v), width=barWidth, edgecolor='white', label='kc latency')\n",
    "plt.ylim(0, 3000)\n",
    "plt.xlabel(\"Participants\")\n",
    "plt.ylabel(\"Latency (ms)\")\n",
    "plt.title(\"SPEKE+ Latency with n participants\")\n",
    "\n",
    "\n",
    "\n",
    "plt.legend()\n",
    "\n",
    "round_1 = [je3['1'], je4['1'], je5['1'], je6['1']]\n",
    "round_1v = [je3['1v'], je4['1v'], je5['1v'], je6['1v']]\n",
    "round_2 = [je3['2'], je4['2'], je5['2'], je6['2']]\n",
    "round_2v = [je3['2v'], je4['2v'], je5['2v'], je6['2v']]\n",
    "round_3 = [je3['3'], je4['3'], je5['3'], je6['3']]\n",
    "round_3v = [je3['4'], je4['4'], je5['4'], je6['4']]\n",
    "round_kc = [je3['KC'], je4['KC'], je5['KC'], je6['KC']]\n",
    "print(round_1v)\n",
    "print(round_2v)\n",
    "print(round_3v)\n",
    "plt.legend()\n",
    "\n",
    "\n",
    "plt.show()\n",
    "plt.figure(figsize=[24, 6])\n",
    "plt.subplot(1,2,1)\n",
    "x = np.arange(0,4).tolist()\n",
    "plt.xticks(x, np.arange(3,7).tolist())\n",
    "plt.bar(x, round_1, color=(0.356, 0.745, 0.760, 1), width=barWidth, edgecolor='white', label='r1 computation latency')\n",
    "plt.bar(x, round_1v, color=(0.694, 0.917, 0.929,1), bottom=round_1, width=barWidth, edgecolor='white', label='r1v computation latency')\n",
    "plt.bar(x, round_2, color=(0.772, 0.403, 0.470, 1), bottom=np.array(round_1v)+np.array(round_1), width=barWidth, edgecolor='white', label='r2 computation latency')\n",
    "plt.bar(x, round_2v, color=(0.925, 0.654, 0.701, 1), bottom=np.array(round_1v)+np.array(round_1) + np.array(round_2), width=barWidth, edgecolor='white', label='r2v computation latency')\n",
    "plt.bar(x, round_3, color=(0.709, 0.356, 0.760, 1), bottom=np.array(round_1v)+np.array(round_1) + np.array(round_2)+np.array(round_2v), width=barWidth, edgecolor='white', label='r3 computation latency')\n",
    "plt.bar(x, round_3v, color=(0.905, 0.705, 0.933, 1), bottom=np.array(round_1v)+np.array(round_1) + np.array(round_2)+np.array(round_2v)+np.array(round_3), width=barWidth, edgecolor='white', label='r3v computation latency')\n",
    "plt.bar(x, round_kc, color=(0.705, 0.933, 0.764, 1), bottom=np.array(round_1v)+np.array(round_1) + np.array(round_2)+np.array(round_2v)+np.array(round_3)+np.array(round_3v), width=barWidth, edgecolor='white', label='kc latency')\n",
    "plt.ylim(0, 3000)\n",
    "plt.xlabel(\"Participants\")\n",
    "plt.ylabel(\"Latency (ms)\")\n",
    "plt.title(\"JPAKE+ EC Latency with n participants (Java)\")\n",
    "\n",
    "\n",
    "round_1 = [66.4, 91.99, 117.66, 175.51]\n",
    "round_1v = [79.91, 121, 158.64, 209.04]\n",
    "round_2 = [27.04, 40.23, 53.63, 74.79]\n",
    "round_2v = [26.18, 39.38, 52.63, 68.44]\n",
    "round_3 = [52.38, 65.5, 78.87, 97.49]\n",
    "round_3v = [53.06, 79.23, 121.45, 145.09]\n",
    "round_kc = [7.41, 7.9, 11.83, 14.06]\n",
    "plt.subplot(1,2,2)\n",
    "x = np.arange(0,4).tolist()\n",
    "plt.xticks(x, np.arange(3,7).tolist())\n",
    "plt.bar(x, round_1, color=(0.356, 0.745, 0.760, 1), width=barWidth, edgecolor='white', label='r1 computation latency')\n",
    "plt.bar(x, round_1v, color=(0.694, 0.917, 0.929,1), bottom=round_1, width=barWidth, edgecolor='white', label='r1v computation latency')\n",
    "plt.bar(x, round_2, color=(0.772, 0.403, 0.470, 1), bottom=np.array(round_1v)+np.array(round_1), width=barWidth, edgecolor='white', label='r2 computation latency')\n",
    "plt.bar(x, round_2v, color=(0.925, 0.654, 0.701, 1), bottom=np.array(round_1v)+np.array(round_1) + np.array(round_2), width=barWidth, edgecolor='white', label='r2v computation latency')\n",
    "plt.bar(x, round_3, color=(0.709, 0.356, 0.760, 1), bottom=np.array(round_1v)+np.array(round_1) + np.array(round_2)+np.array(round_2v), width=barWidth, edgecolor='white', label='r3 computation latency')\n",
    "plt.bar(x, round_3v, color=(0.905, 0.705, 0.933, 1), bottom=np.array(round_1v)+np.array(round_1) + np.array(round_2)+np.array(round_2v)+np.array(round_3), width=barWidth, edgecolor='white', label='r3v computation latency')\n",
    "plt.bar(x, round_kc, color=(0.705, 0.933, 0.764, 1), bottom=np.array(round_1v)+np.array(round_1) + np.array(round_2)+np.array(round_2v)+np.array(round_3)+np.array(round_3v), width=barWidth, edgecolor='white', label='kc latency')\n",
    "plt.ylim(0, 3000)\n",
    "plt.xlabel(\"Participants\")\n",
    "plt.ylabel(\"Latency (ms)\")\n",
    "plt.title(\"JPAKE+ EC Latency with n participants (Python)\")\n",
    "\n",
    "\n",
    "plt.legend()\n",
    "\n",
    "plt.show()\n"
   ]
  },
  {
   "cell_type": "code",
   "execution_count": null,
   "metadata": {},
   "outputs": [],
   "source": []
  },
  {
   "cell_type": "code",
   "execution_count": null,
   "metadata": {},
   "outputs": [],
   "source": []
  },
  {
   "cell_type": "code",
   "execution_count": 10,
   "metadata": {},
   "outputs": [
    {
     "data": {
      "text/plain": [
       "participants     3.000000\n",
       "1               36.000000\n",
       "1v              70.666667\n",
       "2               29.666667\n",
       "2v              28.000000\n",
       "3               25.000000\n",
       "4               56.000000\n",
       "KC               9.333333\n",
       "dtype: float64"
      ]
     },
     "execution_count": 10,
     "metadata": {},
     "output_type": "execute_result"
    }
   ],
   "source": [
    "jpp_p3[0].mean()"
   ]
  },
  {
   "cell_type": "code",
   "execution_count": 11,
   "metadata": {},
   "outputs": [
    {
     "data": {
      "text/plain": [
       "participants      3.000000\n",
       "1                56.333333\n",
       "1v               96.666667\n",
       "2                94.666667\n",
       "2v              123.666667\n",
       "KC               51.666667\n",
       "dtype: float64"
      ]
     },
     "execution_count": 11,
     "metadata": {},
     "output_type": "execute_result"
    }
   ],
   "source": [
    "spp_p3[0].mean()"
   ]
  },
  {
   "cell_type": "code",
   "execution_count": 12,
   "metadata": {},
   "outputs": [],
   "source": [
    "JPAKE = 2\n",
    "SPEKE = 26\n",
    "EC = 60\n",
    "def theoretical_speke(t, n): \n",
    "    s = []\n",
    "    s.append(t*3)\n",
    "    s.append(t * ((n-1) * 2.215))\n",
    "    s.append(t * (3+(n-1)*1))\n",
    "    s.append(t * ((n-1) * 3.25))\n",
    "    s.append(t)\n",
    "    return s\n",
    "def theoretical_jpake(t, n):\n",
    "    j = []\n",
    "    j.append(t * (2 + (n-1) * 4))\n",
    "    j.append(t * (n-1) * 9)\n",
    "    j.append(t * (n-1) * 2)\n",
    "    j.append(t * (n-1) * 4)\n",
    "    j.append(t * (5 + (n-1) * 2))\n",
    "    j.append(t * (n-1) * 5)\n",
    "    j.append(t)\n",
    "    return j\n"
   ]
  },
  {
   "cell_type": "code",
   "execution_count": 13,
   "metadata": {},
   "outputs": [
    {
     "name": "stdout",
     "output_type": "stream",
     "text": [
      "20\n"
     ]
    },
    {
     "data": {
      "text/plain": [
       "<matplotlib.legend.Legend at 0x11749a780>"
      ]
     },
     "execution_count": 13,
     "metadata": {},
     "output_type": "execute_result"
    },
    {
     "data": {
      "image/png": "[encoded data removed]",
      "text/plain": [
       "<Figure size 432x288 with 1 Axes>"
      ]
     },
     "metadata": {
      "needs_background": "light"
     },
     "output_type": "display_data"
    }
   ],
   "source": [
    "y = theoretical_jpake(JPAKE, 3)\n",
    "\n",
    "pixel_3a = jpp_p3[1].mean()\n",
    "print(y[0])\n",
    "\n",
    "x_pos = np.arange(1,8).tolist()\n",
    "plt.xticks([1, 2, 3, 4, 5, 6, 7], [\"1\", \"1v\", \"2\", \"2v\", \"3\", \"3v\", \"KC\"])\n",
    "plt.plot(x_pos, pixel_3a[1:], color='green',  label='practical')\n",
    "plt.plot(x_pos, y, color='blue', label='theoretical')\n",
    "plt.xlabel(\"Round\")\n",
    "plt.ylabel(\"Latency (ms)\")\n",
    "plt.title(\"Theoretical vs Practical Round Performance of JPAKE+ on Pixel 3a\")\n",
    "plt.legend()"
   ]
  },
  {
   "cell_type": "code",
   "execution_count": 1,
   "metadata": {},
   "outputs": [
    {
     "ename": "NameError",
     "evalue": "name 'jpp_p3' is not defined",
     "output_type": "error",
     "traceback": [
      "\u001b[0;31m---------------------------------------------------------------------------\u001b[0m",
      "\u001b[0;31mNameError\u001b[0m                                 Traceback (most recent call last)",
      "\u001b[0;32m<ipython-input-1-88ecaf6d2d87>\u001b[0m in \u001b[0;36m<module>\u001b[0;34m\u001b[0m\n\u001b[0;32m----> 1\u001b[0;31m \u001b[0mp_3a\u001b[0m \u001b[0;34m=\u001b[0m \u001b[0;34m[\u001b[0m\u001b[0mjpp_p3\u001b[0m\u001b[0;34m[\u001b[0m\u001b[0;36m1\u001b[0m\u001b[0;34m]\u001b[0m\u001b[0;34m.\u001b[0m\u001b[0mmean\u001b[0m\u001b[0;34m(\u001b[0m\u001b[0;34m)\u001b[0m\u001b[0;34m,\u001b[0m \u001b[0mjpp_p4\u001b[0m\u001b[0;34m[\u001b[0m\u001b[0;36m1\u001b[0m\u001b[0;34m]\u001b[0m\u001b[0;34m.\u001b[0m\u001b[0mmean\u001b[0m\u001b[0;34m(\u001b[0m\u001b[0;34m)\u001b[0m\u001b[0;34m,\u001b[0m \u001b[0mjpp_p5\u001b[0m\u001b[0;34m[\u001b[0m\u001b[0;36m1\u001b[0m\u001b[0;34m]\u001b[0m\u001b[0;34m.\u001b[0m\u001b[0mmean\u001b[0m\u001b[0;34m(\u001b[0m\u001b[0;34m)\u001b[0m\u001b[0;34m,\u001b[0m \u001b[0mjpp_p6\u001b[0m\u001b[0;34m[\u001b[0m\u001b[0;36m1\u001b[0m\u001b[0;34m]\u001b[0m\u001b[0;34m.\u001b[0m\u001b[0mmean\u001b[0m\u001b[0;34m(\u001b[0m\u001b[0;34m)\u001b[0m\u001b[0;34m]\u001b[0m\u001b[0;34m\u001b[0m\u001b[0m\n\u001b[0m\u001b[1;32m      2\u001b[0m \u001b[0mp_3a_s\u001b[0m \u001b[0;34m=\u001b[0m \u001b[0;34m[\u001b[0m\u001b[0mspp_p3\u001b[0m\u001b[0;34m[\u001b[0m\u001b[0;36m1\u001b[0m\u001b[0;34m]\u001b[0m\u001b[0;34m.\u001b[0m\u001b[0mmean\u001b[0m\u001b[0;34m(\u001b[0m\u001b[0;34m)\u001b[0m\u001b[0;34m,\u001b[0m \u001b[0mspp_p4\u001b[0m\u001b[0;34m[\u001b[0m\u001b[0;36m1\u001b[0m\u001b[0;34m]\u001b[0m\u001b[0;34m.\u001b[0m\u001b[0mmean\u001b[0m\u001b[0;34m(\u001b[0m\u001b[0;34m)\u001b[0m\u001b[0;34m,\u001b[0m \u001b[0mspp_p5\u001b[0m\u001b[0;34m[\u001b[0m\u001b[0;36m1\u001b[0m\u001b[0;34m]\u001b[0m\u001b[0;34m.\u001b[0m\u001b[0mmean\u001b[0m\u001b[0;34m(\u001b[0m\u001b[0;34m)\u001b[0m\u001b[0;34m,\u001b[0m \u001b[0mspp_p6\u001b[0m\u001b[0;34m[\u001b[0m\u001b[0;36m1\u001b[0m\u001b[0;34m]\u001b[0m\u001b[0;34m.\u001b[0m\u001b[0mmean\u001b[0m\u001b[0;34m(\u001b[0m\u001b[0;34m)\u001b[0m\u001b[0;34m]\u001b[0m\u001b[0;34m\u001b[0m\u001b[0m\n\u001b[1;32m      3\u001b[0m theoretical = [theoretical_jpake(JPAKE, 3), theoretical_jpake(JPAKE, 4),\n\u001b[1;32m      4\u001b[0m                theoretical_jpake(JPAKE, 5), theoretical_jpake(JPAKE, 6)]\n\u001b[1;32m      5\u001b[0m theoretical_s = [theoretical_speke(SPEKE,3), theoretical_speke(SPEKE,4),\n",
      "\u001b[0;31mNameError\u001b[0m: name 'jpp_p3' is not defined"
     ]
    }
   ],
   "source": [
    "p_3a = [jpp_p3[1].mean(), jpp_p4[1].mean(), jpp_p5[1].mean(), jpp_p6[1].mean()]\n",
    "p_3a_s = [spp_p3[1].mean(), spp_p4[1].mean(), spp_p5[1].mean(), spp_p6[1].mean()]\n",
    "theoretical = [theoretical_jpake(JPAKE, 3), theoretical_jpake(JPAKE, 4),\n",
    "               theoretical_jpake(JPAKE, 5), theoretical_jpake(JPAKE, 6)]\n",
    "theoretical_s = [theoretical_speke(SPEKE,3), theoretical_speke(SPEKE,4),\n",
    "               theoretical_speke(SPEKE,5), theoretical_speke(SPEKE,6)]\n",
    "\n",
    "x_pos = np.arange(0,4).tolist()\n",
    "\n",
    "p_3a_1 = [p_3a[0][\"1\"], p_3a[1][\"1\"], p_3a[2][\"1\"], p_3a[3][\"1\"]]\n",
    "t_1 = [theoretical[0][0], theoretical[1][0], theoretical[2][0], theoretical[3][0]]\n",
    "\n",
    "p_3a_1v = [p_3a[0][\"1v\"], p_3a[1][\"1v\"], p_3a[2][\"1v\"], p_3a[3][\"1v\"]]\n",
    "t_1v = [theoretical[0][1], theoretical[1][1], theoretical[2][1], theoretical[3][1]]\n",
    "\n",
    "p_3a_2 = [p_3a[0][\"2\"], p_3a[1][\"2\"], p_3a[2][\"2\"], p_3a[3][\"2\"]]\n",
    "t_2 = [theoretical[0][2], theoretical[1][2], theoretical[2][2], theoretical[3][2]]\n",
    "\n",
    "p_3a_2v = [p_3a[0][\"2v\"], p_3a[1][\"2v\"], p_3a[2][\"2v\"], p_3a[3][\"2v\"]]\n",
    "t_2v = [theoretical[0][3], theoretical[1][3], theoretical[2][3], theoretical[3][3]]\n",
    "\n",
    "p_3a_3 = [p_3a[0][\"3\"], p_3a[1][\"3\"], p_3a[2][\"3\"], p_3a[3][\"3\"]]\n",
    "t_3 = [theoretical[0][4], theoretical[1][4], theoretical[2][4], theoretical[3][4]]\n",
    "\n",
    "p_3a_3v = [p_3a[0][\"4\"], p_3a[1][\"4\"], p_3a[2][\"4\"], p_3a[3][\"4\"]]\n",
    "t_3v = [theoretical[0][5], theoretical[1][5], theoretical[2][5], theoretical[3][5]]\n",
    "\n",
    "p_3a_kc = [p_3a[0][\"KC\"], p_3a[1][\"KC\"], p_3a[2][\"KC\"], p_3a[3][\"KC\"]]\n",
    "t_kc = [theoretical[0][6], theoretical[1][6], theoretical[2][6], theoretical[3][6]]\n",
    "\n",
    "\n",
    "\n",
    "p_3a_1s = [p_3a_s[0][\"1\"], p_3a_s[1][\"1\"], p_3a_s[2][\"1\"], p_3a_s[3][\"1\"]]\n",
    "t_1s = [theoretical_s[0][0], theoretical_s[1][0], theoretical_s[2][0], theoretical_s[3][0]]\n",
    "\n",
    "p_3a_1vs = [p_3a_s[0][\"1v\"], p_3a_s[1][\"1v\"], p_3a_s[2][\"1v\"], p_3a_s[3][\"1v\"]]\n",
    "t_1vs = [theoretical_s[0][1], theoretical_s[1][1], theoretical_s[2][1], theoretical_s[3][1]]\n",
    "\n",
    "p_3a_2s = [p_3a_s[0][\"2\"], p_3a_s[1][\"2\"], p_3a_s[2][\"2\"], p_3a_s[3][\"2\"]]\n",
    "t_2s = [theoretical_s[0][2], theoretical_s[1][2], theoretical_s[2][2], theoretical_s[3][2]]\n",
    "\n",
    "p_3a_2vs = [p_3a_s[0][\"2v\"], p_3a_s[1][\"2v\"], p_3a_s[2][\"2v\"], p_3a_s[3][\"2v\"]]\n",
    "t_2vs = [theoretical_s[0][3], theoretical_s[1][3], theoretical_s[2][3], theoretical_s[3][3]]\n",
    "\n",
    "p_3a_kcs = [p_3a_s[0][\"KC\"], p_3a_s[1][\"KC\"], p_3a_s[2][\"KC\"], p_3a_s[3][\"KC\"]]\n",
    "t_kcs = [theoretical_s[0][4], theoretical_s[1][4], theoretical_s[2][4], theoretical_s[3][4]]\n",
    "\n",
    "\n",
    "plt.figure(figsize=[16,6])\n",
    "plt.subplot(1,2,1)\n",
    "plt.xticks([0, 1, 2, 3], [\"3\", \"4\", \"5\", \"6\"])\n",
    "plt.plot(x_pos, p_3a_1, color='green',  label='round 1')\n",
    "plt.scatter(x_pos, t_1, color='green')\n",
    "\n",
    "plt.plot(x_pos, p_3a_1v, color='blue',  label='round 1v')\n",
    "plt.scatter(x_pos, t_1v, color='blue')\n",
    "\n",
    "plt.plot(x_pos, p_3a_2, color='red',  label='2')\n",
    "plt.scatter(x_pos, t_2, color='red')\n",
    "\n",
    "plt.plot(x_pos, p_3a_2v, color='orange',  label='round 2v')\n",
    "plt.scatter(x_pos, t_2v, color='orange')\n",
    "\n",
    "plt.plot(x_pos, p_3a_3, color='purple',  label='round 3')\n",
    "plt.scatter(x_pos, t_3, color='purple')\n",
    "\n",
    "plt.plot(x_pos, p_3a_3v, color='yellow',  label='round 3v')\n",
    "plt.scatter(x_pos, t_3v, color='yellow')\n",
    "\n",
    "plt.plot(x_pos, p_3a_kc, color='black',  label='round kc')\n",
    "plt.scatter(x_pos, t_kc, color='black')\n",
    "\n",
    "\n",
    "plt.xlabel(\"Participants\")\n",
    "plt.ylabel(\"Latency (ms)\")\n",
    "plt.title(\"Theoretical vs Practical Round Performance of JPAKE+ on Pixel 3a\")\n",
    "\n",
    "plt.legend()\n",
    "\n",
    "\n",
    "plt.subplot(1,2,2)\n",
    "plt.xticks([0, 1, 2, 3], [\"3\", \"4\", \"5\", \"6\"])\n",
    "plt.plot(x_pos, p_3a_1s, color='green',  label='round 1')\n",
    "plt.scatter(x_pos, t_1s, color='green')\n",
    "\n",
    "plt.plot(x_pos, p_3a_1vs, color='blue',  label='round 1v')\n",
    "plt.scatter(x_pos, t_1vs, color='blue')\n",
    "\n",
    "plt.plot(x_pos, p_3a_2s, color='red',  label='round 2')\n",
    "plt.scatter(x_pos, t_2s, color='red')\n",
    "\n",
    "plt.plot(x_pos, p_3a_2vs, color='orange',  label='round 2v')\n",
    "plt.scatter(x_pos, t_2vs, color='orange')\n",
    "\n",
    "plt.plot(x_pos, p_3a_kcs, color='black',  label='round kc')\n",
    "plt.scatter(x_pos, t_kcs, color='black')\n",
    "\n",
    "plt.xlabel(\"Participants\")\n",
    "plt.ylabel(\"Latency (ms)\")\n",
    "plt.title(\"Theoretical vs Practical Round Performance of SPEKE+ on Pixel 3a\")\n",
    "plt.ylim(0, 400)\n",
    "plt.legend()\n",
    "plt.show()"
   ]
  },
  {
   "cell_type": "code",
   "execution_count": 45,
   "metadata": {},
   "outputs": [
    {
     "name": "stdout",
     "output_type": "stream",
     "text": [
      "4\n"
     ]
    },
    {
     "data": {
      "image/png": "[encoded data removed]",
      "text/plain": [
       "<Figure size 432x288 with 1 Axes>"
      ]
     },
     "metadata": {
      "needs_background": "light"
     },
     "output_type": "display_data"
    },
    {
     "name": "stdout",
     "output_type": "stream",
     "text": [
      "[31.02314815]\n",
      "[38.611111111111114, 56.51041666666667, 92.86111111111111, 131.68055555555554]\n"
     ]
    }
   ],
   "source": [
    "def extrapolate(m, x, c):\n",
    "    y = m*x + c\n",
    "    return y\n",
    "jpake_plus_3 = 0\n",
    "for i in jpp_p3:\n",
    "    jpake_plus_3 = jpake_plus_3 + i.mean()\n",
    "jpake_plus_3 = jpake_plus_3/3\n",
    "jpake_plus_3 = list(jpake_plus_3)\n",
    "\n",
    "jpake_plus_ec_3 = 0\n",
    "for i in jpp_ec_p3:\n",
    "    jpake_plus_ec_3 = jpake_plus_ec_3 + i.mean()\n",
    "jpake_plus_ec_3 = jpake_plus_ec_3/3\n",
    "jpake_plus_ec_3 = list(jpake_plus_ec_3)\n",
    "\n",
    "jpake_plus_4 = 0\n",
    "print(len(jpp_p4))\n",
    "for i in jpp_p4:\n",
    "    jpake_plus_4 = jpake_plus_4 + i.mean()\n",
    "jpake_plus_4 = jpake_plus_4/3\n",
    "jpake_plus_4 = list(jpake_plus_4)\n",
    "\n",
    "jpake_plus_ec_4 = 0\n",
    "for i in jpp_ec_p4:\n",
    "    jpake_plus_ec_4 = jpake_plus_ec_4 + i.mean()\n",
    "jpake_plus_ec_4 = jpake_plus_ec_4/3\n",
    "jpake_plus_ec_4 = list(jpake_plus_ec_4)\n",
    "\n",
    "\n",
    "jpake_plus_5 = 0\n",
    "for i in jpp_p5:\n",
    "    if not i.empty:\n",
    "        jpake_plus_5 = jpake_plus_5 + i.mean()\n",
    "\n",
    "jpake_plus_5 = jpake_plus_5/3\n",
    "jpake_plus_5 = list(jpake_plus_5)\n",
    "\n",
    "jpake_plus_ec_5 = 0\n",
    "for i in jpp_ec_p5:\n",
    "    jpake_plus_ec_5 = jpake_plus_ec_5 + i.mean()\n",
    "jpake_plus_ec_5 = jpake_plus_ec_5/3\n",
    "jpake_plus_ec_5 = list(jpake_plus_ec_5)\n",
    "\n",
    "\n",
    "\n",
    "jpake_plus_6 = 0\n",
    "for i in jpp_p6:\n",
    "    jpake_plus_6 = jpake_plus_6 + i.mean()\n",
    "jpake_plus_6 = jpake_plus_6/3\n",
    "jpake_plus_6 = list(jpake_plus_6)\n",
    "\n",
    "jpake_plus_ec_6 = 0\n",
    "for i in jpp_ec_p6:\n",
    "    jpake_plus_ec_6 = jpake_plus_ec_6 + i.mean()\n",
    "jpake_plus_ec_6 = jpake_plus_ec_6/6\n",
    "jpake_plus_ec_6 = list(jpake_plus_ec_6)\n",
    "\n",
    "jpake = [np.mean(jpake_plus_3), np.mean(jpake_plus_4)+2, np.mean(jpake_plus_5), np.mean(jpake_plus_6)]\n",
    "\n",
    "m = (jpake[3]-[jpake[0]])/(6-3)\n",
    "estimate = []\n",
    "\n",
    "for i in range(3, 23):\n",
    "    estimate.append(extrapolate(m, i, -60))\n",
    "\n",
    "x_pos = np.arange(0,20).tolist()\n",
    "x = np.arange(3,23).tolist()\n",
    "plt.xticks(x_pos,x)\n",
    "plt.plot([0, 1, 2, 3], jpake, color=\"blue\", label='actual')\n",
    "plt.plot(x_pos, estimate, color=\"orange\",label='estimate')\n",
    "plt.title(\"JPAKE+ Latecy Estimation\")\n",
    "plt.xlabel(\"Participants\")\n",
    "plt.ylabel(\"Latency (ms)\")\n",
    "plt.legend()\n",
    "plt.show()\n",
    "print(m)\n",
    "print(jpake)"
   ]
  },
  {
   "cell_type": "code",
   "execution_count": 46,
   "metadata": {},
   "outputs": [
    {
     "name": "stdout",
     "output_type": "stream",
     "text": [
      "  participants   1   1v    2   2v  KC\n",
      "0            4  57  123  137  161  54\n",
      "0            4  54  120  133  166  55\n",
      "0            4  57  123   86  165  53\n"
     ]
    },
    {
     "data": {
      "image/png": "[encoded data removed]",
      "text/plain": [
       "<Figure size 432x288 with 1 Axes>"
      ]
     },
     "metadata": {
      "needs_background": "light"
     },
     "output_type": "display_data"
    },
    {
     "name": "stdout",
     "output_type": "stream",
     "text": [
      "[70.07407407407408, 119.53703703703702, 190.35185185185185, 284.50000000000006]\n",
      "[71.47530864]\n"
     ]
    }
   ],
   "source": [
    "def extrapolate(m, x, c):\n",
    "    y = m*x + c\n",
    "    return y\n",
    "speke_plus_3 = 0\n",
    "for i in spp_p3:\n",
    "    speke_plus_3 = speke_plus_3 + i.mean()\n",
    "speke_plus_3 = speke_plus_3/3\n",
    "speke_plus_3 = list(speke_plus_3)\n",
    "\n",
    "speke_plus_4 = 0\n",
    "print(spp_p4[0])\n",
    "for i in spp_p4:\n",
    "    if not i.empty:\n",
    "        speke_plus_4 = speke_plus_4 + i.mean()\n",
    "speke_plus_4 = speke_plus_4/3\n",
    "speke_plus_4 = list(speke_plus_4)\n",
    "\n",
    "speke_plus_5 = 0\n",
    "for i in spp_p5:\n",
    "    if not i.empty:\n",
    "        speke_plus_5 = speke_plus_5 + i.mean()\n",
    "\n",
    "speke_plus_5 = speke_plus_5/3\n",
    "speke_plus_5 = list(speke_plus_5)\n",
    "\n",
    "speke_plus_6 = 0\n",
    "for i in spp_p6:\n",
    "    speke_plus_6 = speke_plus_6 + i.mean()\n",
    "speke_plus_6 = speke_plus_6/3\n",
    "speke_plus_6 = list(speke_plus_6)\n",
    "\n",
    "\n",
    "speke = [np.mean(speke_plus_3), np.mean(speke_plus_4)+2, np.mean(speke_plus_5), np.mean(speke_plus_6)]\n",
    "m = (speke[3]-[speke[0]])/(6-3)\n",
    "estimate = []\n",
    "for i in range(3, 23):\n",
    "    estimate.append(extrapolate(m, i, -130))\n",
    "\n",
    "x_pos = np.arange(0,20).tolist()\n",
    "x = np.arange(3,23).tolist()\n",
    "plt.xticks(x_pos,x)\n",
    "plt.plot([0, 1, 2, 3], speke, color=\"blue\", label='actual')\n",
    "plt.plot(x_pos, estimate, color=\"orange\",label='estimate')\n",
    "plt.title(\"speke+ Latecy Estimation\")\n",
    "plt.xlabel(\"Participants\")\n",
    "plt.ylabel(\"Latency (ms)\")\n",
    "plt.legend()\n",
    "plt.show()\n",
    "print(speke)\n",
    "print(m)"
   ]
  },
  {
   "cell_type": "code",
   "execution_count": 16,
   "metadata": {},
   "outputs": [
    {
     "name": "stdout",
     "output_type": "stream",
     "text": [
      "64\n",
      "627\n"
     ]
    },
    {
     "data": {
      "image/png": "[encoded data removed]",
      "text/plain": [
       "<Figure size 864x360 with 2 Axes>"
      ]
     },
     "metadata": {
      "needs_background": "light"
     },
     "output_type": "display_data"
    }
   ],
   "source": [
    "plt.figure(figsize=[12,5])\n",
    "plt.subplot(1,2,1)\n",
    "plt.bar([\"New Participant\", \"Established Participant\"], [155, 44], color=(0.905, 0.705, 0.933, 1), label='JPAKE')\n",
    "plt.bar([\"New Participant\", \"Established Participant\"], [855, 23], bottom=[155,44], color=(0.705, 0.933, 0.764, 1),label='AES')\n",
    "plt.legend()\n",
    "plt.title(\"Dynamic Client Addition Time AES ECB\")\n",
    "plt.ylabel(\"Latency (ms)\")\n",
    "plt.xlabel(\"Participants\")\n",
    "plt.ylim(0, 1100)\n",
    "plt.subplot(1,2,2)\n",
    "plt.bar([\"New Participant\", \"Established Participant\"], [148, 41], color=(0.905, 0.705, 0.933, 1), label='JPAKE')\n",
    "plt.bar([\"New Participant\", \"Established Participant\"], [479, 23], bottom=[148,41], color=(0.705, 0.933, 0.764, 1),label='AES')\n",
    "plt.legend()\n",
    "plt.title(\"Dynamic Client Addition Time AES GCM\")\n",
    "plt.ylabel(\"Latency (ms)\")\n",
    "plt.xlabel(\"Participants\")\n",
    "plt.ylim(0, 1100)\n",
    "plt.show\n",
    "print(41+23)\n",
    "print(148+479)"
   ]
  },
  {
   "cell_type": "code",
   "execution_count": 17,
   "metadata": {},
   "outputs": [
    {
     "data": {
      "text/plain": [
       "<function matplotlib.pyplot.show(*args, **kw)>"
      ]
     },
     "execution_count": 17,
     "metadata": {},
     "output_type": "execute_result"
    },
    {
     "data": {
      "image/png": "[encoded data removed]",
      "text/plain": [
       "<Figure size 432x288 with 1 Axes>"
      ]
     },
     "metadata": {
      "needs_background": "light"
     },
     "output_type": "display_data"
    }
   ],
   "source": [
    "plt.bar([\"New Participant\", \"Established Participant\"], [148, 41], color=(0.905, 0.705, 0.933, 1), label='JPAKE')\n",
    "plt.bar([\"New Participant\", \"Established Participant\"], [479, 23], bottom=[148,41], color=(0.705, 0.933, 0.764, 1),label='AES')\n",
    "plt.legend()\n",
    "plt.title(\"Dynamic Client Addition Time\")\n",
    "plt.ylabel(\"Latency (ms)\")\n",
    "plt.xlabel(\"Participants\")\n",
    "plt.show"
   ]
  }
 ],
 "metadata": {
  "kernelspec": {
   "display_name": "Python 3",
   "language": "python",
   "name": "python3"
  },
  "language_info": {
   "codemirror_mode": {
    "name": "ipython",
    "version": 3
   },
   "file_extension": ".py",
   "mimetype": "text/x-python",
   "name": "python",
   "nbconvert_exporter": "python",
   "pygments_lexer": "ipython3",
   "version": "3.6.4"
  }
 },
 "nbformat": 4,
 "nbformat_minor": 2
}
